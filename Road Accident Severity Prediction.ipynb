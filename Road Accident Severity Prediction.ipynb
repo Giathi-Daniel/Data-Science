{
  "nbformat": 4,
  "nbformat_minor": 0,
  "metadata": {
    "colab": {
      "provenance": [],
      "authorship_tag": "ABX9TyMNByCNQvq0S9GE53jpkfuY",
      "include_colab_link": true
    },
    "kernelspec": {
      "name": "python3",
      "display_name": "Python 3"
    },
    "language_info": {
      "name": "python"
    }
  },
  "cells": [
    {
      "cell_type": "markdown",
      "metadata": {
        "id": "view-in-github",
        "colab_type": "text"
      },
      "source": [
        "<a href=\"https://colab.research.google.com/github/Giathi-Daniel/Data-Science/blob/main/Road%20Accident%20Severity%20Prediction.ipynb\" target=\"_parent\"><img src=\"https://colab.research.google.com/assets/colab-badge.svg\" alt=\"Open In Colab\"/></a>"
      ]
    },
    {
      "cell_type": "code",
      "execution_count": null,
      "metadata": {
        "id": "AzGNoygO9P0x"
      },
      "outputs": [],
      "source": [
        "# Import neccessary libraries and modules\n",
        "import numpy as py\n",
        "import pandas as pd\n",
        "from sklearn.model_selection import train_test_split\n",
        "from sklearn.linear_model import LinearRegression\n",
        "from sklearn.metrics import mean_squared_error, r2_score"
      ]
    },
    {
      "cell_type": "code",
      "source": [
        "# sample dataset\n",
        "data = pd.DataFrame({\n",
        "    'Speed': [60, 80, 100, 55, 70, 45],\n",
        "    'Weather': [0, 1, 0, 0, 2, 1],\n",
        "    'Road_Type': [1, 0, 1, 0, 1, 0],\n",
        "    'Time_of_Day': [13, 21, 7, 15, 3, 18],\n",
        "    'Alcohol': [0, 1, 0, 0,1, 0],\n",
        "    'Driver_Age': [30, 45, 22, 28, 35, 40],\n",
        "    'Vehicle_Type': [0, 2, 1, 0, 0, 1],\n",
        "    'Vehicles_Involved': [1, 2, 3, 1, 2, 1],\n",
        "    'Seatbelt': [1, 0, 1, 1, 0, 1],\n",
        "    'Accident_Severity': [1, 3, 2, 1, 3, 2] # dependent variable\n",
        "})"
      ],
      "metadata": {
        "id": "J6vCGTgJGqHm"
      },
      "execution_count": 2,
      "outputs": []
    }
  ]
}